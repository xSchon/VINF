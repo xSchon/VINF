{
 "cells": [
  {
   "cell_type": "code",
   "execution_count": 89,
   "id": "aa4ce769-fe05-4fb1-ab4e-b91e34e76809",
   "metadata": {},
   "outputs": [],
   "source": [
    "import re\n",
    "import json\n",
    "import pandas as pd"
   ]
  },
  {
   "cell_type": "code",
   "execution_count": 150,
   "id": "fcd157eb-a637-4339-88d6-5d9ab37b8ab2",
   "metadata": {},
   "outputs": [],
   "source": [
    "xxx = pd.read_csv('./data/full_data.csv', delimiter='\\t')\n",
    "\n",
    "with open('./data/parsed_countries.json', 'r') as f:\n",
    "    cntr = json.load(f)\n",
    "    \n",
    "# Convert the JSON data to a list of dictionaries\n",
    "json_list = [{'country': key, 'content': value} for key, value in cntr.items()]\n",
    "cntr = pd.DataFrame(json_list)"
   ]
  },
  {
   "cell_type": "code",
   "execution_count": 151,
   "id": "0d48c463-f5be-47ee-908c-522c1ac16abf",
   "metadata": {},
   "outputs": [],
   "source": [
    "cntr['Sports'] = None\n",
    "cntr['InfoBox'] = None\n",
    "cntr['CountryIntro'] = None"
   ]
  },
  {
   "cell_type": "code",
   "execution_count": 153,
   "id": "fc202e86-1c51-4a0b-b405-511e2f14ccfe",
   "metadata": {},
   "outputs": [],
   "source": [
    "sports_info_pattern = re.compile(r'===\\s*Sport\\s*===(.+?)==', re.DOTALL)\n",
    "\n",
    "# Assuming df is your DataFrame and cc is the column containing the text\n",
    "cntr['Sports'] = cntr['content'].apply(lambda x: re.search(sports_info_pattern, x).group(1).strip() if re.search(sports_info_pattern, x) else None)"
   ]
  },
  {
   "cell_type": "code",
   "execution_count": 179,
   "id": "f9c31275-7bbb-4949-a6d2-dcff40eac141",
   "metadata": {
    "collapsed": true,
    "jupyter": {
     "outputs_hidden": true
    },
    "tags": []
   },
   "outputs": [
    {
     "name": "stdout",
     "output_type": "stream",
     "text": [
      "ccc\n",
      "ccc\n",
      "ccc\n",
      "ccc\n",
      "ccc\n",
      "ccc\n",
      "ccc\n",
      "ccc\n",
      "ccc\n",
      "ccc\n",
      "ccc\n",
      "ccc\n",
      "ccc\n",
      "ccc\n",
      "ccc\n",
      "ccc\n",
      "ccc\n",
      "ccc\n",
      "ccc\n",
      "ccc\n",
      "ccc\n",
      "ccc\n",
      "ccc\n",
      "ccc\n",
      "ccc\n",
      "ccc\n",
      "ccc\n",
      "ccc\n",
      "ccc\n",
      "ccc\n",
      "ccc\n",
      "ccc\n",
      "ccc\n",
      "ccc\n",
      "ccc\n",
      "ccc\n",
      "ccc\n",
      "ccc\n",
      "ccc\n",
      "ccc\n",
      "ccc\n",
      "ccc\n",
      "ccc\n",
      "ccc\n",
      "ccc\n",
      "ccc\n",
      "ccc\n",
      "ccc\n",
      "ccc\n",
      "ccc\n",
      "ccc\n",
      "ccc\n",
      "ccc\n",
      "ccc\n",
      "ccc\n",
      "ccc\n",
      "ccc\n",
      "ccc\n",
      "ccc\n",
      "ccc\n",
      "ccc\n",
      "ccc\n",
      "ccc\n",
      "ccc\n",
      "ccc\n",
      "ccc\n",
      "ccc\n",
      "ccc\n",
      "ccc\n",
      "ccc\n",
      "ccc\n",
      "ccc\n",
      "ccc\n",
      "ccc\n",
      "ccc\n",
      "ccc\n"
     ]
    }
   ],
   "source": [
    "header_pattern = re.compile(r'(.+?)===\\s*[^=]+\\s*===', re.DOTALL)\n",
    "\n",
    "infbox = []\n",
    "cntrintro = []\n",
    "for cou in cntr.iterrows():\n",
    "    cc = cou[1].content\n",
    "    match = header_pattern.search(cc)\n",
    "    # Check if a header is found\n",
    "    if match:\n",
    "        # Get all data before the header\n",
    "        data_before_header = match.group(1)\n",
    "    \n",
    "    if pd.isna(cc) or not match:\n",
    "        infbox.append(None)\n",
    "        cntrintro.append(None)\n",
    "        continue\n",
    "        \n",
    "    headers = data_before_header.split(\"==\")[0]\n",
    "    infobox_country = headers.split(\"'''\")[0]\n",
    "    print('ccc')\n",
    "    country_intro = headers.split(f\"'''{cou[1].country}'''\")[1]\n",
    "    infbox.append(infobox_country)\n",
    "    cntrintro.append(country_intro)\n",
    "    \n",
    "cntr['InfoBox'] = infbox\n",
    "cntr['CountryIntro'] = cntrintro"
   ]
  },
  {
   "cell_type": "code",
   "execution_count": 100,
   "id": "b4a0ffc7-0607-4e7f-88a5-9e550f46108c",
   "metadata": {
    "collapsed": true,
    "jupyter": {
     "outputs_hidden": true
    },
    "tags": []
   },
   "outputs": [
    {
     "name": "stdout",
     "output_type": "stream",
     "text": [
      "Sports Section Content:\n",
      "{{Main|Sport in Slovakia}}\n",
      "Sporting activities are practised widely in Slovakia, many of them on a professional level. [[Ice hockey]] and [[association football|football]] have traditionally been regarded as the most popular sports in Slovakia, though [[tennis]], [[handball]], [[basketball]], [[volleyball]], [[whitewater slalom]], [[cycle sport|cycling]], [[alpine skiing]], [[biathlon]] and [[sport of athletics|athletics]] are also popular.{{fact|date=September 2022}}\n",
      "\n",
      "[[File:Slovakia2010WinterOlympicscelebration2.jpg|thumb|left|The [[Slovakia men's national ice hockey team|Slovak national ice hockey team]] celebrating a victory against [[Swedish national men's ice hockey team|Sweden]] at the [[2010 Winter Olympics]]]]\n",
      "One of the most popular team sports in Slovakia is [[ice hockey]]. Slovakia became a member of the [[IIHF]] on 2 February 1993<ref>{{cite web|url=http://www.iihf.com/sk/iihf-home/countries/slovakia.html |title=Slovakia |publisher=Iihf.com |date=2 February 1993 |access-date=25 November 2012}}</ref> and since then has won 4 medals in [[Ice Hockey World Championships]], consisting of 1 gold, 2 silver and 1 bronze. The most recent success was a silver medal at the [[2012 IIHF World Championship]] in [[Helsinki]]. The Slovak national hockey team made eight appearances in the [[Slovakia men's national ice hockey team|Olympic games]], finishing fourth in the [[2010 Winter Olympics]] in [[Vancouver]] and third with bronze medal at the [[2022 Winter Olympics]] in [[Beijing]]. The country has 8,280 registered players and is ranked seventh in the [[IIHF World Ranking]] at present. The Slovak hockey teams [[HC Slovan Bratislava]] and [[HC Lev Poprad]] participated in the [[Kontinental Hockey League]].<ref>{{cite web|url=http://www.iihf.com/fi/home-of-hockey/news/news-singleview/recap/6876.html |title=World of difference for KHL? |publisher=iihf.com |date=7 May 2012 |url-status=dead |archive-url=https://web.archive.org/web/20130123082543/http://www.iihf.com/fi/home-of-hockey/news/news-singleview/recap/6876.html |archive-date=23 January 2013}}</ref>\n",
      "\n",
      "Slovakia hosted the [[2011 IIHF World Championship]], where [[Finland men's national ice hockey team|Finland]] won the gold medal and [[2019 IIHF World Championship]], where [[Finland men's national ice hockey team|Finland]] also won the gold medal. Both competitions took place in [[Bratislava]] and [[Košice]].<ref>{{Cite web |title=Venues |url=https://webarchive.iihf.com/channels-11/iihf-world-championship-wc11/home-oc/venues/index.html |access-date=2023-09-22 |website=webarchive.iihf.com}}</ref>\n",
      "\n",
      "Football is the most popular sport in Slovakia, with over 400,000 registered players. Since 1993, the [[Slovak national football team]] has qualified for the [[FIFA World Cup]] once, in [[2010 FIFA World Cup|2010]]. They progressed to the last 16, where they were defeated by the [[Netherlands national football team|Netherlands]]. The most notable result was the 3–2 victory over [[Italy national football team|Italy]]. In 2016, the [[Slovak national football team]] qualified for the [[UEFA Euro 2016]] tournament, under head coach [[Ján Kozák (footballer, born 1954)|Ján Kozák]]. This helped the team reach its best-ever position of 14th in the [[FIFA World Rankings]].{{fact|date=September 2022}}\n",
      "\n",
      "In club competitions, only three teams have qualified for the [[UEFA Champions League]] Group Stage, namely [[MFK Košice]] in [[1997–98 UEFA Champions League|1997–98]], [[FC Artmedia Bratislava]] in [[2005–06 UEFA Champions League|2005–06 season]], and [[MŠK Žilina]] in [[2010–11 UEFA Champions League|2010–11]]. FC Artmedia Bratislava has been the most successful team, finishing third at the Group Stage of the [[2005–06 UEFA Cup|UEFA Cup]], therefore qualifying for the knockout stage. They remain the only Slovak club that has won a match at the group stage.{{fact|date=September 2022}}\n",
      "\n",
      " ({{IPAc-en|audio=en-us-Croatia.ogg|k|r|oʊ|ˈ|eɪ|ʃ|ə}}, {{respell|kroh|AY|shə}}; {{lang-hr|Hrvatska}}, {{IPA-hr|xř̩ʋaːtskaː|pron}}), officially the '''Republic of Croatia''' ({{lang-hr|Republika Hrvatska|links=no}} {{pronunciation|Hr-Republika Hrvatska.oga|listen|(|help=no}} ),{{efn|IPA transcription of \"''Republika Hrvatska''\": ({{IPA-hr|ˈrepǔblika ˈxř̩ʋaːtskaː|hr}}).}} is a country located at the crossroads of [[Central Europe|Central]] and [[Southern Europe]]. Its coast lies entirely on the [[Adriatic Sea]]. It borders [[Slovenia]] to the northwest, [[Hungary]] to the northeast, [[Serbia]] to the east, [[Bosnia and Herzegovina]] and [[Montenegro]] to the southeast, and shares a [[maritime border]] with [[Italy]] to the west and southwest. Its capital and largest city, [[Zagreb]], forms one of the country's [[Administrative divisions of Croatia|primary subdivisions]], with [[Counties of Croatia|twenty counties]]. The country spans {{convert|56594|km2|sqmi|0|abbr=off}}, and has a population of nearly 3.9&nbsp;million.\n",
      "\n",
      "The [[Croats]] arrived in modern-day Croatia in the late 6th century, then part of [[Illyria|Roman Illyria]]. By the 7th century, they had organized the territory into [[Duchy of Croatia|two duchies]]. Croatia was first internationally recognized as independent on 7 June 879 during the reign of Duke [[Branimir of Croatia|Branimir]]. [[Tomislav of Croatia|Tomislav]] became the first king by 925, elevating Croatia to the status of a [[Kingdom of Croatia (925–1102)|kingdom]]. During the succession crisis after the [[Trpimirović dynasty]] ended, Croatia [[Croatia in personal union with Hungary|entered]] a [[personal union]] with [[Kingdom of Hungary|Hungary]] in 1102. In 1527, faced with [[Hundred Years' Croatian–Ottoman War|Ottoman conquest]], the [[Croatian Parliament]] elected [[Ferdinand I, Holy Roman Emperor|Ferdinand I of Austria]] to the Croatian throne. In October 1918, the [[State of Slovenes, Croats and Serbs|State of Slovenes, Croats, and Serbs]], independent from Austria-Hungary, was proclaimed in Zagreb, and in December 1918, it [[Creation of Yugoslavia|merged]] into the [[Kingdom of Yugoslavia]]. Following the Axis [[invasion of Yugoslavia]] in April 1941, most of Croatia was incorporated into a Nazi-installed puppet state, the [[Independent State of Croatia]]. A [[Croatian Partisans|resistance movement]] led to the creation of the [[Socialist Republic of Croatia]], which after the war became a founding member and constituent of the [[Socialist Federal Republic of Yugoslavia]]. On 25 June 1991, Croatia [[Independence of Croatia|declared independence]], and the [[Croatian War of Independence|War of Independence]] was successfully fought over the next four years.\n",
      "\n",
      "Croatia is a [[republic]] and a [[parliamentary system|parliamentary]] [[liberal democracy]]. It is a member of the [[European Union]], the [[Eurozone]], the [[Schengen Area]], [[NATO]], the [[United Nations]], the [[Council of Europe]], the [[Organization for Security and Co-operation in Europe|OSCE]], the [[World Trade Organization]], a founding member of the [[Union for the Mediterranean]], and is currently in the process of joining the [[OECD]]. An active participant in [[United Nations peacekeeping]], Croatia contributed troops to the [[International Security Assistance Force]] and was elected to fill a non-permanent seat on the [[United Nations Security Council]] in the [[2007 United Nations Security Council election|2008–2009 term]] for the first time.\n",
      "\n",
      "Croatia is a [[developed country]] with an advanced [[World Bank high-income economy|high-income economy]] and ranks 40th in the [[List of countries by Human Development Index|Human Development Index]].<ref>{{cite news|url=https://www.imf.org/en/Publications/WEO/weo-database/2023/April |title=IMF World Economic Outlook |access-date=14 April 2023}}</ref><ref>{{cite news|url=https://data.worldbank.org/country/croatia |title=The World Bank Report |access-date=14 April 2023}}</ref> According to the [[Gini coefficient]], it also ranks among the top 20 countries with the lowest [[List of countries by income equality|income inequality]] in the world. [[Service (economics)|Service]], [[Secondary sector of the economy|industrial sectors]], and [[agriculture]] dominate the [[Economy of Croatia|economy]]. [[Tourism in Croatia|Tourism]] is a significant source of revenue for the country, which is ranked among the top 20 most popular tourist destinations in the world.<ref>{{cite news|url=https://data.worldbank.org/indicator/ST.INT.ARVL?locations=HR&most_recent_value_desc=true |title=International tourism, The World Bank |access-date=14 April 2023}}</ref><ref>{{cite news|url=https://www.cntraveler.com/story/top-countries-in-the-world |title=Condé Nast Traveler, Top Countries in the World |access-date=14 April 2023}}</ref> Since 2000s, the [[Government of Croatia|Croatian government]] has heavily invested in infrastructure, especially [[Transport in Croatia|transport routes and facilities]] along the [[Pan-European corridors]]. Croatia has also positioned itself as a regional energy leader in the early 2020s and is contributing to the diversification of Europe's energy supply via its floating [[liquefied natural gas]] import terminal off [[Krk]] island, [[LNG Hrvatska]].<ref name=\"lng\">{{cite news|url=https://www.state.gov/u-s-relations-with-croatia/ |title=U.S. Department of State factsheet |access-date=24 April 2023}}</ref> Croatia provides [[Welfare|social security]], [[Healthcare in Croatia|universal health care]], and tuition-free [[Education in Croatia|primary and secondary education]] while supporting [[Culture of Croatia|culture]] through public institutions and corporate investments in [[Mass media in Croatia|media]] and [[Croatian literature|publishing]].\n",
      "\n",
      "\n"
     ]
    }
   ],
   "source": [
    "sports_info_pattern = re.compile(r'===\\s*Sport\\s*===(.+?)==', re.DOTALL)\n",
    "match = sports_info_pattern.search(cc)\n",
    "\n",
    "if match:\n",
    "    sports_section_content = match.group(1).strip()\n",
    "\n",
    "print(f\"Sports Section Content:\\n{sports_section_content}\\n\")\n",
    "\n",
    "\n",
    "# Define the pattern to match any header\n",
    "header_pattern = re.compile(r'(.+?)===\\s*[^=]+\\s*===', re.DOTALL)\n",
    "\n",
    "# Use re.search to find the position of the first header\n",
    "match = header_pattern.search(cc)\n",
    "\n",
    "# Check if a header is found\n",
    "if match:\n",
    "    # Get all data before the header\n",
    "    data_before_header = match.group(1)\n",
    "    \n",
    "    headers = data_before_header.split(\"==\")[0]\n",
    "    infobox_country = headers.split(\"'''\")[0]\n",
    "    country_info = headers.split(f\"'''Croatia'''\")[1]\n",
    "    print(country_info)\n",
    "else:\n",
    "    print(\"No header found.\")"
   ]
  },
  {
   "cell_type": "code",
   "execution_count": 189,
   "id": "1ff800fb-1ebb-4aba-a5bb-15b8bad6ee62",
   "metadata": {},
   "outputs": [],
   "source": [
    "player_with_wiki = pd.merge(xxx, cntr, left_on='BirthCountry', right_on='country', how='left')\n",
    "player_with_wiki = player_with_wiki.drop({'country', 'content'}, axis=1)"
   ]
  },
  {
   "cell_type": "code",
   "execution_count": 190,
   "id": "98ded09a-45cd-4df6-95d7-9d9af6c3d13b",
   "metadata": {},
   "outputs": [],
   "source": [
    "player_with_wiki.to_csv('./data/final_data.csv', sep='\\t', index=False)"
   ]
  }
 ],
 "metadata": {
  "kernelspec": {
   "display_name": "Python 3 (ipykernel)",
   "language": "python",
   "name": "python3"
  },
  "language_info": {
   "codemirror_mode": {
    "name": "ipython",
    "version": 3
   },
   "file_extension": ".py",
   "mimetype": "text/x-python",
   "name": "python",
   "nbconvert_exporter": "python",
   "pygments_lexer": "ipython3",
   "version": "3.10.12"
  }
 },
 "nbformat": 4,
 "nbformat_minor": 5
}
